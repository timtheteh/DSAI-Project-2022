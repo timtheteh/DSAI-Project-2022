{
 "cells": [
  {
   "cell_type": "markdown",
   "metadata": {},
   "source": [
    "<h1>Importing essential libraries</h1>"
   ]
  },
  {
   "cell_type": "code",
   "execution_count": 1,
   "metadata": {},
   "outputs": [
    {
     "name": "stdout",
     "output_type": "stream",
     "text": [
      "Requirement already satisfied: pandas-profiling in /Library/Frameworks/Python.framework/Versions/3.9/lib/python3.9/site-packages (3.1.0)\n",
      "Requirement already satisfied: seaborn>=0.10.1 in /Library/Frameworks/Python.framework/Versions/3.9/lib/python3.9/site-packages (from pandas-profiling) (0.11.2)\n",
      "Requirement already satisfied: phik>=0.11.1 in /Library/Frameworks/Python.framework/Versions/3.9/lib/python3.9/site-packages (from pandas-profiling) (0.12.2)\n",
      "Requirement already satisfied: htmlmin>=0.1.12 in /Library/Frameworks/Python.framework/Versions/3.9/lib/python3.9/site-packages (from pandas-profiling) (0.1.12)\n",
      "Requirement already satisfied: tqdm>=4.48.2 in /Library/Frameworks/Python.framework/Versions/3.9/lib/python3.9/site-packages (from pandas-profiling) (4.64.0)\n",
      "Requirement already satisfied: jinja2>=2.11.1 in /Library/Frameworks/Python.framework/Versions/3.9/lib/python3.9/site-packages (from pandas-profiling) (3.0.1)\n",
      "Requirement already satisfied: requests>=2.24.0 in /Library/Frameworks/Python.framework/Versions/3.9/lib/python3.9/site-packages (from pandas-profiling) (2.26.0)\n",
      "Requirement already satisfied: pydantic>=1.8.1 in /Library/Frameworks/Python.framework/Versions/3.9/lib/python3.9/site-packages (from pandas-profiling) (1.9.0)\n",
      "Requirement already satisfied: visions[type_image_path]==0.7.4 in /Library/Frameworks/Python.framework/Versions/3.9/lib/python3.9/site-packages (from pandas-profiling) (0.7.4)\n",
      "Requirement already satisfied: matplotlib>=3.2.0 in /Library/Frameworks/Python.framework/Versions/3.9/lib/python3.9/site-packages (from pandas-profiling) (3.5.1)\n",
      "Requirement already satisfied: scipy>=1.4.1 in /Library/Frameworks/Python.framework/Versions/3.9/lib/python3.9/site-packages (from pandas-profiling) (1.6.2)\n",
      "Requirement already satisfied: markupsafe~=2.0.1 in /Library/Frameworks/Python.framework/Versions/3.9/lib/python3.9/site-packages (from pandas-profiling) (2.0.1)\n",
      "Requirement already satisfied: PyYAML>=5.0.0 in /Library/Frameworks/Python.framework/Versions/3.9/lib/python3.9/site-packages (from pandas-profiling) (6.0)\n",
      "Requirement already satisfied: tangled-up-in-unicode==0.1.0 in /Library/Frameworks/Python.framework/Versions/3.9/lib/python3.9/site-packages (from pandas-profiling) (0.1.0)\n",
      "Requirement already satisfied: numpy>=1.16.0 in /Library/Frameworks/Python.framework/Versions/3.9/lib/python3.9/site-packages (from pandas-profiling) (1.20.0)\n",
      "Requirement already satisfied: multimethod>=1.4 in /Library/Frameworks/Python.framework/Versions/3.9/lib/python3.9/site-packages (from pandas-profiling) (1.7)\n",
      "Requirement already satisfied: joblib~=1.0.1 in /Library/Frameworks/Python.framework/Versions/3.9/lib/python3.9/site-packages (from pandas-profiling) (1.0.1)\n",
      "Requirement already satisfied: pandas!=1.0.0,!=1.0.1,!=1.0.2,!=1.1.0,>=0.25.3 in /Library/Frameworks/Python.framework/Versions/3.9/lib/python3.9/site-packages (from pandas-profiling) (1.2.2)\n",
      "Requirement already satisfied: missingno>=0.4.2 in /Library/Frameworks/Python.framework/Versions/3.9/lib/python3.9/site-packages (from pandas-profiling) (0.5.1)\n",
      "Requirement already satisfied: networkx>=2.4 in /Library/Frameworks/Python.framework/Versions/3.9/lib/python3.9/site-packages (from visions[type_image_path]==0.7.4->pandas-profiling) (2.7.1)\n",
      "Requirement already satisfied: attrs>=19.3.0 in /Library/Frameworks/Python.framework/Versions/3.9/lib/python3.9/site-packages (from visions[type_image_path]==0.7.4->pandas-profiling) (21.2.0)\n",
      "Requirement already satisfied: imagehash in /Library/Frameworks/Python.framework/Versions/3.9/lib/python3.9/site-packages (from visions[type_image_path]==0.7.4->pandas-profiling) (4.2.1)\n",
      "Requirement already satisfied: Pillow in /Library/Frameworks/Python.framework/Versions/3.9/lib/python3.9/site-packages (from visions[type_image_path]==0.7.4->pandas-profiling) (8.1.1)\n",
      "Requirement already satisfied: packaging>=20.0 in /Library/Frameworks/Python.framework/Versions/3.9/lib/python3.9/site-packages (from matplotlib>=3.2.0->pandas-profiling) (21.0)\n",
      "Requirement already satisfied: pyparsing>=2.2.1 in /Library/Frameworks/Python.framework/Versions/3.9/lib/python3.9/site-packages (from matplotlib>=3.2.0->pandas-profiling) (2.4.7)\n",
      "Requirement already satisfied: fonttools>=4.22.0 in /Library/Frameworks/Python.framework/Versions/3.9/lib/python3.9/site-packages (from matplotlib>=3.2.0->pandas-profiling) (4.28.5)\n",
      "Requirement already satisfied: kiwisolver>=1.0.1 in /Library/Frameworks/Python.framework/Versions/3.9/lib/python3.9/site-packages (from matplotlib>=3.2.0->pandas-profiling) (1.3.2)\n",
      "Requirement already satisfied: cycler>=0.10 in /Library/Frameworks/Python.framework/Versions/3.9/lib/python3.9/site-packages (from matplotlib>=3.2.0->pandas-profiling) (0.11.0)\n",
      "Requirement already satisfied: python-dateutil>=2.7 in /Library/Frameworks/Python.framework/Versions/3.9/lib/python3.9/site-packages (from matplotlib>=3.2.0->pandas-profiling) (2.8.1)\n",
      "Requirement already satisfied: pytz>=2017.3 in /Library/Frameworks/Python.framework/Versions/3.9/lib/python3.9/site-packages (from pandas!=1.0.0,!=1.0.1,!=1.0.2,!=1.1.0,>=0.25.3->pandas-profiling) (2021.1)\n",
      "Requirement already satisfied: typing-extensions>=3.7.4.3 in /Library/Frameworks/Python.framework/Versions/3.9/lib/python3.9/site-packages (from pydantic>=1.8.1->pandas-profiling) (4.1.1)\n",
      "Requirement already satisfied: idna<4,>=2.5 in /Library/Frameworks/Python.framework/Versions/3.9/lib/python3.9/site-packages (from requests>=2.24.0->pandas-profiling) (3.3)\n",
      "Requirement already satisfied: charset-normalizer~=2.0.0 in /Library/Frameworks/Python.framework/Versions/3.9/lib/python3.9/site-packages (from requests>=2.24.0->pandas-profiling) (2.0.7)\n",
      "Requirement already satisfied: certifi>=2017.4.17 in /Library/Frameworks/Python.framework/Versions/3.9/lib/python3.9/site-packages (from requests>=2.24.0->pandas-profiling) (2021.10.8)\n",
      "Requirement already satisfied: urllib3<1.27,>=1.21.1 in /Library/Frameworks/Python.framework/Versions/3.9/lib/python3.9/site-packages (from requests>=2.24.0->pandas-profiling) (1.26.7)\n",
      "Requirement already satisfied: six>=1.5 in /Users/limxinyi/Library/Python/3.9/lib/python/site-packages (from python-dateutil>=2.7->matplotlib>=3.2.0->pandas-profiling) (1.15.0)\n",
      "Requirement already satisfied: PyWavelets in /Library/Frameworks/Python.framework/Versions/3.9/lib/python3.9/site-packages (from imagehash->visions[type_image_path]==0.7.4->pandas-profiling) (1.3.0)\n",
      "\u001b[33mWARNING: You are using pip version 21.3.1; however, version 22.0.4 is available.\n",
      "You should consider upgrading via the '/usr/local/bin/python3.9 -m pip install --upgrade pip' command.\u001b[0m\n",
      "Requirement already satisfied: plotly in /Library/Frameworks/Python.framework/Versions/3.9/lib/python3.9/site-packages (5.7.0)\n",
      "Requirement already satisfied: six in /Users/limxinyi/Library/Python/3.9/lib/python/site-packages (from plotly) (1.15.0)\n",
      "Requirement already satisfied: tenacity>=6.2.0 in /Library/Frameworks/Python.framework/Versions/3.9/lib/python3.9/site-packages (from plotly) (8.0.1)\n",
      "\u001b[33mWARNING: You are using pip version 21.3.1; however, version 22.0.4 is available.\n",
      "You should consider upgrading via the '/usr/local/bin/python3.9 -m pip install --upgrade pip' command.\u001b[0m\n",
      "Requirement already satisfied: catboost in /Library/Frameworks/Python.framework/Versions/3.9/lib/python3.9/site-packages (1.0.4)\n",
      "Requirement already satisfied: graphviz in /Library/Frameworks/Python.framework/Versions/3.9/lib/python3.9/site-packages (from catboost) (0.19.1)\n",
      "Requirement already satisfied: matplotlib in /Library/Frameworks/Python.framework/Versions/3.9/lib/python3.9/site-packages (from catboost) (3.5.1)\n",
      "Requirement already satisfied: numpy>=1.16.0 in /Library/Frameworks/Python.framework/Versions/3.9/lib/python3.9/site-packages (from catboost) (1.20.0)\n",
      "Requirement already satisfied: scipy in /Library/Frameworks/Python.framework/Versions/3.9/lib/python3.9/site-packages (from catboost) (1.6.2)\n",
      "Requirement already satisfied: six in /Users/limxinyi/Library/Python/3.9/lib/python/site-packages (from catboost) (1.15.0)\n",
      "Requirement already satisfied: pandas>=0.24.0 in /Library/Frameworks/Python.framework/Versions/3.9/lib/python3.9/site-packages (from catboost) (1.2.2)\n",
      "Requirement already satisfied: plotly in /Library/Frameworks/Python.framework/Versions/3.9/lib/python3.9/site-packages (from catboost) (5.7.0)\n"
     ]
    },
    {
     "name": "stdout",
     "output_type": "stream",
     "text": [
      "Requirement already satisfied: python-dateutil>=2.7.3 in /Library/Frameworks/Python.framework/Versions/3.9/lib/python3.9/site-packages (from pandas>=0.24.0->catboost) (2.8.1)\n",
      "Requirement already satisfied: pytz>=2017.3 in /Library/Frameworks/Python.framework/Versions/3.9/lib/python3.9/site-packages (from pandas>=0.24.0->catboost) (2021.1)\n",
      "Requirement already satisfied: cycler>=0.10 in /Library/Frameworks/Python.framework/Versions/3.9/lib/python3.9/site-packages (from matplotlib->catboost) (0.11.0)\n",
      "Requirement already satisfied: pyparsing>=2.2.1 in /Library/Frameworks/Python.framework/Versions/3.9/lib/python3.9/site-packages (from matplotlib->catboost) (2.4.7)\n",
      "Requirement already satisfied: pillow>=6.2.0 in /Library/Frameworks/Python.framework/Versions/3.9/lib/python3.9/site-packages (from matplotlib->catboost) (8.1.1)\n",
      "Requirement already satisfied: kiwisolver>=1.0.1 in /Library/Frameworks/Python.framework/Versions/3.9/lib/python3.9/site-packages (from matplotlib->catboost) (1.3.2)\n",
      "Requirement already satisfied: packaging>=20.0 in /Library/Frameworks/Python.framework/Versions/3.9/lib/python3.9/site-packages (from matplotlib->catboost) (21.0)\n",
      "Requirement already satisfied: fonttools>=4.22.0 in /Library/Frameworks/Python.framework/Versions/3.9/lib/python3.9/site-packages (from matplotlib->catboost) (4.28.5)\n",
      "Requirement already satisfied: tenacity>=6.2.0 in /Library/Frameworks/Python.framework/Versions/3.9/lib/python3.9/site-packages (from plotly->catboost) (8.0.1)\n",
      "\u001b[33mWARNING: You are using pip version 21.3.1; however, version 22.0.4 is available.\n",
      "You should consider upgrading via the '/usr/local/bin/python3.9 -m pip install --upgrade pip' command.\u001b[0m\n"
     ]
    }
   ],
   "source": [
    "import sys\n",
    "!{sys.executable} -m pip install pandas-profiling\n",
    "!{sys.executable} -m pip install plotly\n",
    "!{sys.executable} -m pip  install catboost"
   ]
  },
  {
   "cell_type": "code",
   "execution_count": 1,
   "metadata": {},
   "outputs": [],
   "source": [
    "# Importing essential libraries\n",
    "import numpy as np\n",
    "import pandas as pd\n",
    "import seaborn as sns\n",
    "import pandas_profiling\n",
    "import matplotlib.pyplot as plt\n",
    "\n",
    "# Importing various models and tools \n",
    "from sklearn.model_selection import train_test_split \n",
    "from sklearn.preprocessing import LabelEncoder\n",
    "from sklearn.tree import DecisionTreeClassifier \n",
    "\n",
    "sns.set()\n",
    "%matplotlib inline\n",
    "\n",
    "import warnings\n",
    "warnings.filterwarnings('ignore')"
   ]
  },
  {
   "cell_type": "markdown",
   "metadata": {},
   "source": [
    "# Importing Dataset"
   ]
  },
  {
   "cell_type": "markdown",
   "metadata": {},
   "source": [
    "We import the dataset that has been cleaned and does not contain any duplicates."
   ]
  },
  {
   "cell_type": "code",
   "execution_count": 2,
   "metadata": {},
   "outputs": [
    {
     "data": {
      "text/html": [
       "<div>\n",
       "<style scoped>\n",
       "    .dataframe tbody tr th:only-of-type {\n",
       "        vertical-align: middle;\n",
       "    }\n",
       "\n",
       "    .dataframe tbody tr th {\n",
       "        vertical-align: top;\n",
       "    }\n",
       "\n",
       "    .dataframe thead th {\n",
       "        text-align: right;\n",
       "    }\n",
       "</style>\n",
       "<table border=\"1\" class=\"dataframe\">\n",
       "  <thead>\n",
       "    <tr style=\"text-align: right;\">\n",
       "      <th></th>\n",
       "      <th>fixed acidity</th>\n",
       "      <th>volatile acidity</th>\n",
       "      <th>citric acid</th>\n",
       "      <th>residual sugar</th>\n",
       "      <th>chlorides</th>\n",
       "      <th>free sulfur dioxide</th>\n",
       "      <th>total sulfur dioxide</th>\n",
       "      <th>density</th>\n",
       "      <th>pH</th>\n",
       "      <th>sulphates</th>\n",
       "      <th>alcohol</th>\n",
       "      <th>quality</th>\n",
       "    </tr>\n",
       "  </thead>\n",
       "  <tbody>\n",
       "    <tr>\n",
       "      <th>0</th>\n",
       "      <td>7.4</td>\n",
       "      <td>0.70</td>\n",
       "      <td>0.00</td>\n",
       "      <td>1.9</td>\n",
       "      <td>0.076</td>\n",
       "      <td>11.0</td>\n",
       "      <td>34.0</td>\n",
       "      <td>0.9978</td>\n",
       "      <td>3.51</td>\n",
       "      <td>0.56</td>\n",
       "      <td>9.4</td>\n",
       "      <td>0</td>\n",
       "    </tr>\n",
       "    <tr>\n",
       "      <th>1</th>\n",
       "      <td>7.8</td>\n",
       "      <td>0.88</td>\n",
       "      <td>0.00</td>\n",
       "      <td>2.6</td>\n",
       "      <td>0.098</td>\n",
       "      <td>25.0</td>\n",
       "      <td>67.0</td>\n",
       "      <td>0.9968</td>\n",
       "      <td>3.20</td>\n",
       "      <td>0.68</td>\n",
       "      <td>9.8</td>\n",
       "      <td>0</td>\n",
       "    </tr>\n",
       "    <tr>\n",
       "      <th>2</th>\n",
       "      <td>7.8</td>\n",
       "      <td>0.76</td>\n",
       "      <td>0.04</td>\n",
       "      <td>2.3</td>\n",
       "      <td>0.092</td>\n",
       "      <td>15.0</td>\n",
       "      <td>54.0</td>\n",
       "      <td>0.9970</td>\n",
       "      <td>3.26</td>\n",
       "      <td>0.65</td>\n",
       "      <td>9.8</td>\n",
       "      <td>0</td>\n",
       "    </tr>\n",
       "    <tr>\n",
       "      <th>3</th>\n",
       "      <td>11.2</td>\n",
       "      <td>0.28</td>\n",
       "      <td>0.56</td>\n",
       "      <td>1.9</td>\n",
       "      <td>0.075</td>\n",
       "      <td>17.0</td>\n",
       "      <td>60.0</td>\n",
       "      <td>0.9980</td>\n",
       "      <td>3.16</td>\n",
       "      <td>0.58</td>\n",
       "      <td>9.8</td>\n",
       "      <td>1</td>\n",
       "    </tr>\n",
       "    <tr>\n",
       "      <th>4</th>\n",
       "      <td>7.4</td>\n",
       "      <td>0.66</td>\n",
       "      <td>0.00</td>\n",
       "      <td>1.8</td>\n",
       "      <td>0.075</td>\n",
       "      <td>13.0</td>\n",
       "      <td>40.0</td>\n",
       "      <td>0.9978</td>\n",
       "      <td>3.51</td>\n",
       "      <td>0.56</td>\n",
       "      <td>9.4</td>\n",
       "      <td>0</td>\n",
       "    </tr>\n",
       "  </tbody>\n",
       "</table>\n",
       "</div>"
      ],
      "text/plain": [
       "   fixed acidity  volatile acidity  citric acid  residual sugar  chlorides  \\\n",
       "0            7.4              0.70         0.00             1.9      0.076   \n",
       "1            7.8              0.88         0.00             2.6      0.098   \n",
       "2            7.8              0.76         0.04             2.3      0.092   \n",
       "3           11.2              0.28         0.56             1.9      0.075   \n",
       "4            7.4              0.66         0.00             1.8      0.075   \n",
       "\n",
       "   free sulfur dioxide  total sulfur dioxide  density    pH  sulphates  \\\n",
       "0                 11.0                  34.0   0.9978  3.51       0.56   \n",
       "1                 25.0                  67.0   0.9968  3.20       0.68   \n",
       "2                 15.0                  54.0   0.9970  3.26       0.65   \n",
       "3                 17.0                  60.0   0.9980  3.16       0.58   \n",
       "4                 13.0                  40.0   0.9978  3.51       0.56   \n",
       "\n",
       "   alcohol  quality  \n",
       "0      9.4        0  \n",
       "1      9.8        0  \n",
       "2      9.8        0  \n",
       "3      9.8        1  \n",
       "4      9.4        0  "
      ]
     },
     "execution_count": 2,
     "metadata": {},
     "output_type": "execute_result"
    }
   ],
   "source": [
    "wine_data = pd.read_csv(\"binned_no_dup.csv\")\n",
    "\n",
    "wine_data.head()"
   ]
  },
  {
   "cell_type": "markdown",
   "metadata": {},
   "source": [
    "## Outlier removal\n",
    "We can remove the outliers for each predictor variable in our dataset, so that our trained models will not be impacted by the outliers. We do this by removing data points with predictor variable values beyond 1.5 * IQR of the first or third quartile. This leaves us with a decent 1019 datapoints remaining."
   ]
  },
  {
   "cell_type": "code",
   "execution_count": 3,
   "metadata": {},
   "outputs": [
    {
     "data": {
      "text/html": [
       "<div>\n",
       "<style scoped>\n",
       "    .dataframe tbody tr th:only-of-type {\n",
       "        vertical-align: middle;\n",
       "    }\n",
       "\n",
       "    .dataframe tbody tr th {\n",
       "        vertical-align: top;\n",
       "    }\n",
       "\n",
       "    .dataframe thead th {\n",
       "        text-align: right;\n",
       "    }\n",
       "</style>\n",
       "<table border=\"1\" class=\"dataframe\">\n",
       "  <thead>\n",
       "    <tr style=\"text-align: right;\">\n",
       "      <th></th>\n",
       "      <th>fixed acidity</th>\n",
       "      <th>volatile acidity</th>\n",
       "      <th>citric acid</th>\n",
       "      <th>residual sugar</th>\n",
       "      <th>chlorides</th>\n",
       "      <th>free sulfur dioxide</th>\n",
       "      <th>total sulfur dioxide</th>\n",
       "      <th>density</th>\n",
       "      <th>pH</th>\n",
       "      <th>sulphates</th>\n",
       "      <th>alcohol</th>\n",
       "      <th>quality</th>\n",
       "    </tr>\n",
       "  </thead>\n",
       "  <tbody>\n",
       "    <tr>\n",
       "      <th>count</th>\n",
       "      <td>1019.000000</td>\n",
       "      <td>1019.000000</td>\n",
       "      <td>1019.000000</td>\n",
       "      <td>1019.000000</td>\n",
       "      <td>1019.000000</td>\n",
       "      <td>1019.000000</td>\n",
       "      <td>1019.000000</td>\n",
       "      <td>1019.000000</td>\n",
       "      <td>1019.000000</td>\n",
       "      <td>1019.000000</td>\n",
       "      <td>1019.000000</td>\n",
       "      <td>1019.000000</td>\n",
       "    </tr>\n",
       "    <tr>\n",
       "      <th>mean</th>\n",
       "      <td>8.169872</td>\n",
       "      <td>0.522507</td>\n",
       "      <td>0.250805</td>\n",
       "      <td>2.198822</td>\n",
       "      <td>0.078452</td>\n",
       "      <td>14.959764</td>\n",
       "      <td>42.388616</td>\n",
       "      <td>0.996547</td>\n",
       "      <td>3.322385</td>\n",
       "      <td>0.631237</td>\n",
       "      <td>10.385967</td>\n",
       "      <td>0.538763</td>\n",
       "    </tr>\n",
       "    <tr>\n",
       "      <th>std</th>\n",
       "      <td>1.475073</td>\n",
       "      <td>0.167364</td>\n",
       "      <td>0.182313</td>\n",
       "      <td>0.452214</td>\n",
       "      <td>0.014973</td>\n",
       "      <td>8.838951</td>\n",
       "      <td>26.625802</td>\n",
       "      <td>0.001616</td>\n",
       "      <td>0.132589</td>\n",
       "      <td>0.114861</td>\n",
       "      <td>0.992372</td>\n",
       "      <td>0.498740</td>\n",
       "    </tr>\n",
       "    <tr>\n",
       "      <th>min</th>\n",
       "      <td>5.100000</td>\n",
       "      <td>0.120000</td>\n",
       "      <td>0.000000</td>\n",
       "      <td>1.200000</td>\n",
       "      <td>0.039000</td>\n",
       "      <td>1.000000</td>\n",
       "      <td>6.000000</td>\n",
       "      <td>0.992350</td>\n",
       "      <td>2.940000</td>\n",
       "      <td>0.330000</td>\n",
       "      <td>8.700000</td>\n",
       "      <td>0.000000</td>\n",
       "    </tr>\n",
       "    <tr>\n",
       "      <th>25%</th>\n",
       "      <td>7.100000</td>\n",
       "      <td>0.390000</td>\n",
       "      <td>0.080000</td>\n",
       "      <td>1.900000</td>\n",
       "      <td>0.069000</td>\n",
       "      <td>8.000000</td>\n",
       "      <td>22.000000</td>\n",
       "      <td>0.995500</td>\n",
       "      <td>3.230000</td>\n",
       "      <td>0.550000</td>\n",
       "      <td>9.500000</td>\n",
       "      <td>0.000000</td>\n",
       "    </tr>\n",
       "    <tr>\n",
       "      <th>50%</th>\n",
       "      <td>7.800000</td>\n",
       "      <td>0.520000</td>\n",
       "      <td>0.240000</td>\n",
       "      <td>2.100000</td>\n",
       "      <td>0.078000</td>\n",
       "      <td>13.000000</td>\n",
       "      <td>36.000000</td>\n",
       "      <td>0.996560</td>\n",
       "      <td>3.320000</td>\n",
       "      <td>0.610000</td>\n",
       "      <td>10.100000</td>\n",
       "      <td>1.000000</td>\n",
       "    </tr>\n",
       "    <tr>\n",
       "      <th>75%</th>\n",
       "      <td>9.000000</td>\n",
       "      <td>0.630000</td>\n",
       "      <td>0.400000</td>\n",
       "      <td>2.500000</td>\n",
       "      <td>0.087000</td>\n",
       "      <td>20.000000</td>\n",
       "      <td>56.000000</td>\n",
       "      <td>0.997600</td>\n",
       "      <td>3.400000</td>\n",
       "      <td>0.700000</td>\n",
       "      <td>11.000000</td>\n",
       "      <td>1.000000</td>\n",
       "    </tr>\n",
       "    <tr>\n",
       "      <th>max</th>\n",
       "      <td>12.300000</td>\n",
       "      <td>1.010000</td>\n",
       "      <td>0.730000</td>\n",
       "      <td>3.650000</td>\n",
       "      <td>0.122000</td>\n",
       "      <td>42.000000</td>\n",
       "      <td>124.000000</td>\n",
       "      <td>1.001000</td>\n",
       "      <td>3.680000</td>\n",
       "      <td>0.980000</td>\n",
       "      <td>13.400000</td>\n",
       "      <td>1.000000</td>\n",
       "    </tr>\n",
       "  </tbody>\n",
       "</table>\n",
       "</div>"
      ],
      "text/plain": [
       "       fixed acidity  volatile acidity  citric acid  residual sugar  \\\n",
       "count    1019.000000       1019.000000  1019.000000     1019.000000   \n",
       "mean        8.169872          0.522507     0.250805        2.198822   \n",
       "std         1.475073          0.167364     0.182313        0.452214   \n",
       "min         5.100000          0.120000     0.000000        1.200000   \n",
       "25%         7.100000          0.390000     0.080000        1.900000   \n",
       "50%         7.800000          0.520000     0.240000        2.100000   \n",
       "75%         9.000000          0.630000     0.400000        2.500000   \n",
       "max        12.300000          1.010000     0.730000        3.650000   \n",
       "\n",
       "         chlorides  free sulfur dioxide  total sulfur dioxide      density  \\\n",
       "count  1019.000000          1019.000000           1019.000000  1019.000000   \n",
       "mean      0.078452            14.959764             42.388616     0.996547   \n",
       "std       0.014973             8.838951             26.625802     0.001616   \n",
       "min       0.039000             1.000000              6.000000     0.992350   \n",
       "25%       0.069000             8.000000             22.000000     0.995500   \n",
       "50%       0.078000            13.000000             36.000000     0.996560   \n",
       "75%       0.087000            20.000000             56.000000     0.997600   \n",
       "max       0.122000            42.000000            124.000000     1.001000   \n",
       "\n",
       "                pH    sulphates      alcohol      quality  \n",
       "count  1019.000000  1019.000000  1019.000000  1019.000000  \n",
       "mean      3.322385     0.631237    10.385967     0.538763  \n",
       "std       0.132589     0.114861     0.992372     0.498740  \n",
       "min       2.940000     0.330000     8.700000     0.000000  \n",
       "25%       3.230000     0.550000     9.500000     0.000000  \n",
       "50%       3.320000     0.610000    10.100000     1.000000  \n",
       "75%       3.400000     0.700000    11.000000     1.000000  \n",
       "max       3.680000     0.980000    13.400000     1.000000  "
      ]
     },
     "execution_count": 3,
     "metadata": {},
     "output_type": "execute_result"
    }
   ],
   "source": [
    "# Cleaning dataset: Removing outliers\n",
    "wine_predictors = wine_data.drop('quality', axis = 1)\n",
    "wine_quality = wine_data['quality']\n",
    "\n",
    "\n",
    "Q1_joint = wine_predictors.quantile(0.25)\n",
    "Q3_joint = wine_predictors.quantile(0.75)\n",
    "IQR_joint = Q3_joint - Q1_joint\n",
    "idx_joint_cleaned = ~((wine_predictors < (Q1_joint - 1.5 * IQR_joint)) | (wine_predictors > (Q3_joint + 1.5 * IQR_joint))).any(axis=1)\n",
    "\n",
    "wine_predictors_cleaned = wine_predictors.loc[idx_joint_cleaned]\n",
    "\n",
    "wine_data_cleaned = wine_predictors_cleaned.join(wine_quality)\n",
    "\n",
    "wine_data_cleaned.describe()"
   ]
  },
  {
   "cell_type": "code",
   "execution_count": 4,
   "metadata": {
    "scrolled": true
   },
   "outputs": [
    {
     "data": {
      "text/plain": [
       "([<matplotlib.axis.XTick at 0x190455fe070>,\n",
       "  <matplotlib.axis.XTick at 0x190455fe040>],\n",
       " <a list of 2 Text major ticklabel objects>)"
      ]
     },
     "execution_count": 4,
     "metadata": {},
     "output_type": "execute_result"
    },
    {
     "data": {
      "image/png": "[encoded data removed]",
      "text/plain": [
       "<Figure size 432x288 with 1 Axes>"
      ]
     },
     "metadata": {
      "needs_background": "light"
     },
     "output_type": "display_data"
    }
   ],
   "source": [
    "plt.bar(x = wine_data_cleaned['quality'].value_counts().index.tolist(),\n",
    "       height = wine_data_cleaned['quality'].value_counts())\n",
    "plt.xlabel('Quality')\n",
    "plt.ylabel('Count')\n",
    "plt.xticks([0,1])"
   ]
  },
  {
   "cell_type": "markdown",
   "metadata": {},
   "source": [
    "<h1>Machine Learning</h1>\n",
    "\n",
    "We split the dataset into the predictors (X) and the response variable 'quality' (y)."
   ]
  },
  {
   "cell_type": "code",
   "execution_count": 5,
   "metadata": {},
   "outputs": [],
   "source": [
    "target_label = 'quality'\n",
    "X = wine_data_cleaned.drop([target_label], axis=1)\n",
    "y = wine_data_cleaned[target_label]"
   ]
  },
  {
   "cell_type": "code",
   "execution_count": 6,
   "metadata": {
    "scrolled": true
   },
   "outputs": [
    {
     "data": {
      "text/plain": [
       "([<matplotlib.axis.XTick at 0x19045697280>,\n",
       "  <matplotlib.axis.XTick at 0x19045697250>],\n",
       " <a list of 2 Text major ticklabel objects>)"
      ]
     },
     "execution_count": 6,
     "metadata": {},
     "output_type": "execute_result"
    },
    {
     "data": {
      "image/png": "[encoded data removed]",
      "text/plain": [
       "<Figure size 432x288 with 1 Axes>"
      ]
     },
     "metadata": {
      "needs_background": "light"
     },
     "output_type": "display_data"
    }
   ],
   "source": [
    "plt.bar(x = y.value_counts().index.tolist(),\n",
    "       height = y.value_counts())\n",
    "plt.xlabel('Quality')\n",
    "plt.ylabel('Count')\n",
    "plt.xticks([0,1])"
   ]
  },
  {
   "cell_type": "markdown",
   "metadata": {},
   "source": [
    "<h2> Train Test Split </h2>\n",
    "\n",
    "We use the train_test_split() function to split the dataset into the train set, and the test set, with a test size of 0.2.\n",
    "We also specify stratify = y. This is to ensure that the ratio of good:bad values are consistent throughout the train set and the test set."
   ]
  },
  {
   "cell_type": "code",
   "execution_count": 8,
   "metadata": {},
   "outputs": [],
   "source": [
    "X_train, X_test, y_train, y_test = train_test_split(X, y, test_size=0.2, stratify=y, random_state = 42)"
   ]
  },
  {
   "cell_type": "markdown",
   "metadata": {},
   "source": [
    "<h2>Model Fitting & Hyperparameter Tuning</h2>\n",
    "\n",
    "For each of the models used below, the GridSearchCV function is used to determine the optimal hyperparameters for each model (i.e. the hyperparameters which result in the highest accuracy scores on the trainset). 5-fold cross validation is used to obtain unbiased results as well as to determine the optimal hyperparameters of each model."
   ]
  },
  {
   "cell_type": "code",
   "execution_count": 9,
   "metadata": {},
   "outputs": [],
   "source": [
    "# Importing libraries used for model fitting\n",
    "from sklearn.ensemble import AdaBoostClassifier, GradientBoostingClassifier, RandomForestClassifier\n",
    "from sklearn.naive_bayes import GaussianNB\n",
    "from sklearn.tree import DecisionTreeClassifier\n",
    "from sklearn.model_selection import KFold, cross_val_score, GridSearchCV\n",
    "from sklearn.linear_model import LogisticRegression\n",
    "from sklearn.metrics import accuracy_score"
   ]
  },
  {
   "cell_type": "markdown",
   "metadata": {},
   "source": [
    "<H2> (1) Logistic Regression </H2>\n",
    "\n",
    "Logistic regression is a process of modeling the probability of a discrete outcome given an input variable. Logistic regression is a useful analysis method for classification problems, where you are trying to determine if a new sample fits best into a category. \n",
    "It is a simple and more efficient method for binary and linear classification problems. It performs relatively well in our dataset as our response variables are binary. \n"
   ]
  },
  {
   "cell_type": "code",
   "execution_count": 10,
   "metadata": {
    "scrolled": false
   },
   "outputs": [
    {
     "name": "stdout",
     "output_type": "stream",
     "text": [
      "Best parameters:  {'C': 1.0, 'penalty': 'l1', 'random_state': 42, 'solver': 'liblinear'}\n",
      "Best CV score:  0.7361963190184049\n",
      "Test accuracy:  0.7352941176470589\n"
     ]
    }
   ],
   "source": [
    "param_grid = {'penalty':['l1', 'l2', 'elasticnet'],\n",
    "              'C': np.logspace(-3, 3, 7),\n",
    "              'solver': ['newton-cg', 'lbfgs', 'liblinear', 'sag', 'saga'],\n",
    "             'random_state': [42]}\n",
    "\n",
    "grid_search_logreg = GridSearchCV(LogisticRegression(), param_grid, cv=KFold(5, shuffle=True, random_state=42), n_jobs=1)\n",
    "grid_search_logreg.fit(X_train,y_train)\n",
    "print(\"Best parameters: \", grid_search_logreg.best_params_)\n",
    "print(\"Best CV score: \", grid_search_logreg.best_score_)\n",
    "\n",
    "best_logreg = LogisticRegression(**grid_search_logreg.best_params_).fit(X_train, y_train)\n",
    "print(\"Test accuracy: \", best_logreg.score(X_test, y_test))"
   ]
  },
  {
   "cell_type": "markdown",
   "metadata": {},
   "source": [
    "<h2> (2) Gaussian Naive Bayes </h2>"
   ]
  },
  {
   "cell_type": "markdown",
   "metadata": {},
   "source": [
    "Naive Bayes methods are a set of supervised learning algorithms based on applying Bayes’ theorem with the “naive” assumption of conditional independence between every pair of features given the value of the class variable. \n",
    "\n",
    "For our dataset, we chose to use Gaussian Naive Bayes where the likelihood of each predictor is assumed to be Gaussian (normal distribution)."
   ]
  },
  {
   "cell_type": "code",
   "execution_count": 11,
   "metadata": {},
   "outputs": [
    {
     "name": "stdout",
     "output_type": "stream",
     "text": [
      "Best parameters:  {'var_smoothing': 4.328761281083061e-09}\n",
      "Best CV score:  0.7276073619631903\n",
      "Test accuracy:  0.7450980392156863\n"
     ]
    }
   ],
   "source": [
    "param_grid = {'var_smoothing': np.logspace(0,-9, num=100),}\n",
    "\n",
    "grid_search_gnb = GridSearchCV(GaussianNB(), param_grid, cv=KFold(5, shuffle=True, random_state=42), n_jobs=-1)\n",
    "grid_search_gnb.fit(X_train,y_train)\n",
    "print(\"Best parameters: \", grid_search_gnb.best_params_)\n",
    "print(\"Best CV score: \", grid_search_gnb.best_score_)\n",
    "\n",
    "best_gnb = GaussianNB(**grid_search_gnb.best_params_).fit(X_train, y_train)\n",
    "print(\"Test accuracy: \", best_gnb.score(X_test, y_test))"
   ]
  },
  {
   "cell_type": "markdown",
   "metadata": {},
   "source": [
    "<h2> (3) Decision Tree Classifier </h2>"
   ]
  },
  {
   "cell_type": "markdown",
   "metadata": {},
   "source": [
    "The Decision Tree Classifier belongs to the family of supervised learning algorithms. The intuition behind Decision Trees is that you use the dataset features to create yes/no questions and continually split the dataset until you isolate all data points belonging to each class. The Decision Tree classifier can handle both categorical and numerical data (numerical data as predictors in this dataset), and is simple to understand and interpret since the trees can be visualised."
   ]
  },
  {
   "cell_type": "code",
   "execution_count": 12,
   "metadata": {},
   "outputs": [
    {
     "name": "stdout",
     "output_type": "stream",
     "text": [
      "Best parameters:  {'max_depth': None, 'random_state': 42}\n",
      "Best CV score:  0.6773006134969325\n",
      "Test accuracy:  0.6421568627450981\n"
     ]
    }
   ],
   "source": [
    "param_grid = {'max_depth':[None, [i for i in range(1,50,1)]],\n",
    "             'random_state': [42]}\n",
    "\n",
    "grid_search_dtc = GridSearchCV(DecisionTreeClassifier(), param_grid, cv=KFold(5, shuffle=True, random_state=42), n_jobs=-1)\n",
    "\n",
    "grid_search_dtc.fit(X_train,y_train)\n",
    "print(\"Best parameters: \", grid_search_dtc.best_params_)\n",
    "print(\"Best CV score: \", grid_search_dtc.best_score_)\n",
    "\n",
    "best_dtc = DecisionTreeClassifier(**grid_search_dtc.best_params_).fit(X_train, y_train)\n",
    "print(\"Test accuracy: \", best_dtc.score(X_test, y_test))"
   ]
  },
  {
   "cell_type": "markdown",
   "metadata": {},
   "source": [
    "<h2> (4) Random Forest Classifier </h2>"
   ]
  },
  {
   "cell_type": "markdown",
   "metadata": {},
   "source": [
    "The Random Forest Classifier builds multiple decision trees and merges them together to get a more accurate and stable prediction. One big advantage of random forest is that it can be used for both classification and regression problems, and is suitable for binary classification of wines in this dataset.  Random forest adds additional randomness to the model, while growing the trees. Instead of searching for the most important feature while splitting a node, it searches for the best feature among a random subset of features. This results in a wide diversity that generally results in an improved model."
   ]
  },
  {
   "cell_type": "code",
   "execution_count": 13,
   "metadata": {},
   "outputs": [
    {
     "name": "stdout",
     "output_type": "stream",
     "text": [
      "Best parameters:  {'max_depth': 19, 'n_estimators': 90, 'random_state': 42}\n",
      "Best CV score:  0.750920245398773\n",
      "Test accuracy:  0.7254901960784313\n"
     ]
    }
   ],
   "source": [
    "param_grid = {'max_depth':[i for i in range(1,30,3)],\n",
    "             'n_estimators': [j for j in range(10, 601, 40)],\n",
    "             'random_state': [42]}\n",
    "\n",
    "\n",
    "grid_search_rfc = GridSearchCV(RandomForestClassifier(), param_grid, cv=KFold(5, shuffle=True, random_state=42), n_jobs=-1)\n",
    "\n",
    "grid_search_rfc.fit(X_train,y_train)\n",
    "print(\"Best parameters: \", grid_search_rfc.best_params_)\n",
    "print(\"Best CV score: \", grid_search_rfc.best_score_)\n",
    "\n",
    "best_rfc = RandomForestClassifier(**grid_search_rfc.best_params_).fit(X_train, y_train)\n",
    "print(\"Test accuracy: \", best_rfc.score(X_test, y_test))"
   ]
  },
  {
   "cell_type": "markdown",
   "metadata": {},
   "source": [
    "<h2> (5) AdaBoost Classifier </h2>"
   ]
  },
  {
   "cell_type": "markdown",
   "metadata": {},
   "source": [
    "AdaBoost is an iterative ensemble method. AdaBoost classifier builds a strong classifier by combining multiple poorly performing classifiers so that you will get a high accuracy strong classifier. The method automatically adjusts its parameters to the data based on the actual performance in the current iteration, meaning, both the weights for re-weighting the data and the weights for the final aggregation are re-computed iteratively.\n"
   ]
  },
  {
   "cell_type": "code",
   "execution_count": 14,
   "metadata": {},
   "outputs": [
    {
     "name": "stdout",
     "output_type": "stream",
     "text": [
      "Best parameters:  {'learning_rate': 0.15, 'n_estimators': 90, 'random_state': 42}\n",
      "Best CV score:  0.7435582822085889\n",
      "Test accuracy:  0.7254901960784313\n"
     ]
    }
   ],
   "source": [
    "param_grid = {'learning_rate':[0.05, 0.1, 0.15, 0.2, 0.25, 0.3],\n",
    "             'n_estimators': [j for j in range(10, 601, 40)],\n",
    "             'random_state': [42]}\n",
    "\n",
    "grid_search_abc = GridSearchCV(AdaBoostClassifier(), param_grid, cv= KFold(5, shuffle=True, random_state=42), n_jobs=-1)\n",
    "\n",
    "grid_search_abc.fit(X_train,y_train)\n",
    "print(\"Best parameters: \", grid_search_abc.best_params_)\n",
    "print(\"Best CV score: \", grid_search_abc.best_score_)\n",
    "\n",
    "best_abc = AdaBoostClassifier(**grid_search_abc.best_params_).fit(X_train, y_train)\n",
    "print(\"Test accuracy: \", best_abc.score(X_test, y_test))"
   ]
  },
  {
   "cell_type": "markdown",
   "metadata": {},
   "source": [
    "<h2> (6) CatBoost Classifier </h2>"
   ]
  },
  {
   "cell_type": "markdown",
   "metadata": {},
   "source": [
    "The CatBoost Classifier is a high-performance open source library for gradient boosting on decision trees. In the growing procedure of the decision trees, CatBoost does not follow similar gradient boosting models. Instead, CatBoost grows oblivious trees, which means that the trees are grown by imposing the rule that all nodes at the same level, test the same predictor with the same condition, and hence an index of a leaf can be calculated with bitwise operations."
   ]
  },
  {
   "cell_type": "code",
   "execution_count": 15,
   "metadata": {},
   "outputs": [
    {
     "name": "stdout",
     "output_type": "stream",
     "text": [
      "0:\tlearn: 0.6681619\ttotal: 142ms\tremaining: 28.2s\n",
      "1:\tlearn: 0.6418758\ttotal: 146ms\tremaining: 14.5s\n",
      "2:\tlearn: 0.6222052\ttotal: 151ms\tremaining: 9.91s\n",
      "3:\tlearn: 0.5995497\ttotal: 153ms\tremaining: 7.51s\n",
      "4:\tlearn: 0.5829812\ttotal: 156ms\tremaining: 6.07s\n",
      "5:\tlearn: 0.5673494\ttotal: 158ms\tremaining: 5.1s\n",
      "6:\tlearn: 0.5524825\ttotal: 160ms\tremaining: 4.41s\n",
      "7:\tlearn: 0.5418616\ttotal: 162ms\tremaining: 3.88s\n",
      "8:\tlearn: 0.5296889\ttotal: 164ms\tremaining: 3.47s\n",
      "9:\tlearn: 0.5193340\ttotal: 166ms\tremaining: 3.15s\n",
      "10:\tlearn: 0.5124783\ttotal: 168ms\tremaining: 2.88s\n",
      "11:\tlearn: 0.5047960\ttotal: 170ms\tremaining: 2.66s\n",
      "12:\tlearn: 0.4978988\ttotal: 172ms\tremaining: 2.47s\n",
      "13:\tlearn: 0.4932438\ttotal: 174ms\tremaining: 2.31s\n",
      "14:\tlearn: 0.4848461\ttotal: 176ms\tremaining: 2.17s\n",
      "15:\tlearn: 0.4802854\ttotal: 178ms\tremaining: 2.05s\n",
      "16:\tlearn: 0.4743291\ttotal: 180ms\tremaining: 1.94s\n",
      "17:\tlearn: 0.4710334\ttotal: 182ms\tremaining: 1.84s\n",
      "18:\tlearn: 0.4654206\ttotal: 184ms\tremaining: 1.75s\n",
      "19:\tlearn: 0.4608569\ttotal: 186ms\tremaining: 1.67s\n",
      "20:\tlearn: 0.4563495\ttotal: 187ms\tremaining: 1.6s\n",
      "21:\tlearn: 0.4515955\ttotal: 189ms\tremaining: 1.53s\n",
      "22:\tlearn: 0.4478396\ttotal: 191ms\tremaining: 1.47s\n",
      "23:\tlearn: 0.4451543\ttotal: 192ms\tremaining: 1.41s\n",
      "24:\tlearn: 0.4423293\ttotal: 194ms\tremaining: 1.36s\n",
      "25:\tlearn: 0.4380598\ttotal: 196ms\tremaining: 1.31s\n",
      "26:\tlearn: 0.4335258\ttotal: 198ms\tremaining: 1.27s\n",
      "27:\tlearn: 0.4289196\ttotal: 200ms\tremaining: 1.23s\n",
      "28:\tlearn: 0.4240899\ttotal: 201ms\tremaining: 1.19s\n",
      "29:\tlearn: 0.4193320\ttotal: 203ms\tremaining: 1.15s\n",
      "30:\tlearn: 0.4163787\ttotal: 205ms\tremaining: 1.12s\n",
      "31:\tlearn: 0.4127786\ttotal: 207ms\tremaining: 1.09s\n",
      "32:\tlearn: 0.4109446\ttotal: 209ms\tremaining: 1.06s\n",
      "33:\tlearn: 0.4075792\ttotal: 211ms\tremaining: 1.03s\n",
      "34:\tlearn: 0.4053573\ttotal: 213ms\tremaining: 1s\n",
      "35:\tlearn: 0.4036430\ttotal: 215ms\tremaining: 980ms\n",
      "36:\tlearn: 0.4009443\ttotal: 217ms\tremaining: 956ms\n",
      "37:\tlearn: 0.3984048\ttotal: 219ms\tremaining: 933ms\n",
      "38:\tlearn: 0.3958905\ttotal: 221ms\tremaining: 911ms\n",
      "39:\tlearn: 0.3931560\ttotal: 222ms\tremaining: 889ms\n",
      "40:\tlearn: 0.3922903\ttotal: 225ms\tremaining: 871ms\n",
      "41:\tlearn: 0.3905193\ttotal: 226ms\tremaining: 852ms\n",
      "42:\tlearn: 0.3876443\ttotal: 228ms\tremaining: 834ms\n",
      "43:\tlearn: 0.3836652\ttotal: 231ms\tremaining: 818ms\n",
      "44:\tlearn: 0.3800290\ttotal: 233ms\tremaining: 802ms\n",
      "45:\tlearn: 0.3782631\ttotal: 235ms\tremaining: 786ms\n",
      "46:\tlearn: 0.3761679\ttotal: 237ms\tremaining: 770ms\n",
      "47:\tlearn: 0.3746776\ttotal: 238ms\tremaining: 755ms\n",
      "48:\tlearn: 0.3731321\ttotal: 240ms\tremaining: 740ms\n",
      "49:\tlearn: 0.3683703\ttotal: 242ms\tremaining: 726ms\n",
      "50:\tlearn: 0.3665885\ttotal: 244ms\tremaining: 712ms\n",
      "51:\tlearn: 0.3631768\ttotal: 246ms\tremaining: 699ms\n",
      "52:\tlearn: 0.3605285\ttotal: 248ms\tremaining: 687ms\n",
      "53:\tlearn: 0.3575758\ttotal: 249ms\tremaining: 674ms\n",
      "54:\tlearn: 0.3543199\ttotal: 251ms\tremaining: 662ms\n",
      "55:\tlearn: 0.3514284\ttotal: 253ms\tremaining: 651ms\n",
      "56:\tlearn: 0.3491201\ttotal: 255ms\tremaining: 640ms\n",
      "57:\tlearn: 0.3472390\ttotal: 257ms\tremaining: 629ms\n",
      "58:\tlearn: 0.3448928\ttotal: 259ms\tremaining: 618ms\n",
      "59:\tlearn: 0.3435235\ttotal: 261ms\tremaining: 609ms\n",
      "60:\tlearn: 0.3415647\ttotal: 262ms\tremaining: 598ms\n",
      "61:\tlearn: 0.3408577\ttotal: 264ms\tremaining: 588ms\n",
      "62:\tlearn: 0.3390004\ttotal: 266ms\tremaining: 577ms\n",
      "63:\tlearn: 0.3370013\ttotal: 267ms\tremaining: 568ms\n",
      "64:\tlearn: 0.3365117\ttotal: 269ms\tremaining: 558ms\n",
      "65:\tlearn: 0.3347503\ttotal: 270ms\tremaining: 549ms\n",
      "66:\tlearn: 0.3319634\ttotal: 272ms\tremaining: 540ms\n",
      "67:\tlearn: 0.3300677\ttotal: 273ms\tremaining: 531ms\n",
      "68:\tlearn: 0.3277415\ttotal: 275ms\tremaining: 523ms\n",
      "69:\tlearn: 0.3252103\ttotal: 277ms\tremaining: 515ms\n",
      "70:\tlearn: 0.3244080\ttotal: 279ms\tremaining: 507ms\n",
      "71:\tlearn: 0.3225010\ttotal: 281ms\tremaining: 499ms\n",
      "72:\tlearn: 0.3219043\ttotal: 283ms\tremaining: 492ms\n",
      "73:\tlearn: 0.3205566\ttotal: 284ms\tremaining: 484ms\n",
      "74:\tlearn: 0.3192164\ttotal: 286ms\tremaining: 477ms\n",
      "75:\tlearn: 0.3165324\ttotal: 288ms\tremaining: 470ms\n",
      "76:\tlearn: 0.3150885\ttotal: 290ms\tremaining: 463ms\n",
      "77:\tlearn: 0.3134953\ttotal: 292ms\tremaining: 456ms\n",
      "78:\tlearn: 0.3121270\ttotal: 293ms\tremaining: 449ms\n",
      "79:\tlearn: 0.3109966\ttotal: 295ms\tremaining: 442ms\n",
      "80:\tlearn: 0.3089275\ttotal: 296ms\tremaining: 436ms\n",
      "81:\tlearn: 0.3076740\ttotal: 298ms\tremaining: 429ms\n",
      "82:\tlearn: 0.3052056\ttotal: 300ms\tremaining: 423ms\n",
      "83:\tlearn: 0.3032685\ttotal: 302ms\tremaining: 418ms\n",
      "84:\tlearn: 0.3026794\ttotal: 304ms\tremaining: 412ms\n",
      "85:\tlearn: 0.3015610\ttotal: 307ms\tremaining: 407ms\n",
      "86:\tlearn: 0.3011044\ttotal: 309ms\tremaining: 401ms\n",
      "87:\tlearn: 0.2990369\ttotal: 311ms\tremaining: 396ms\n",
      "88:\tlearn: 0.2985678\ttotal: 313ms\tremaining: 391ms\n",
      "89:\tlearn: 0.2957177\ttotal: 316ms\tremaining: 386ms\n",
      "90:\tlearn: 0.2942695\ttotal: 318ms\tremaining: 381ms\n",
      "91:\tlearn: 0.2932530\ttotal: 320ms\tremaining: 376ms\n",
      "92:\tlearn: 0.2921589\ttotal: 322ms\tremaining: 370ms\n",
      "93:\tlearn: 0.2890084\ttotal: 324ms\tremaining: 365ms\n",
      "94:\tlearn: 0.2878173\ttotal: 326ms\tremaining: 360ms\n",
      "95:\tlearn: 0.2854896\ttotal: 328ms\tremaining: 355ms\n",
      "96:\tlearn: 0.2823333\ttotal: 330ms\tremaining: 350ms\n",
      "97:\tlearn: 0.2798975\ttotal: 331ms\tremaining: 345ms\n",
      "98:\tlearn: 0.2783629\ttotal: 333ms\tremaining: 340ms\n",
      "99:\tlearn: 0.2779955\ttotal: 335ms\tremaining: 335ms\n",
      "100:\tlearn: 0.2763884\ttotal: 337ms\tremaining: 330ms\n",
      "101:\tlearn: 0.2747776\ttotal: 339ms\tremaining: 326ms\n",
      "102:\tlearn: 0.2745537\ttotal: 340ms\tremaining: 321ms\n",
      "103:\tlearn: 0.2712308\ttotal: 342ms\tremaining: 316ms\n",
      "104:\tlearn: 0.2697269\ttotal: 344ms\tremaining: 311ms\n",
      "105:\tlearn: 0.2686306\ttotal: 346ms\tremaining: 307ms\n",
      "106:\tlearn: 0.2680846\ttotal: 347ms\tremaining: 302ms\n",
      "107:\tlearn: 0.2658888\ttotal: 349ms\tremaining: 297ms\n",
      "108:\tlearn: 0.2636644\ttotal: 351ms\tremaining: 293ms\n",
      "109:\tlearn: 0.2617221\ttotal: 353ms\tremaining: 288ms\n",
      "110:\tlearn: 0.2592755\ttotal: 354ms\tremaining: 284ms\n",
      "111:\tlearn: 0.2576494\ttotal: 356ms\tremaining: 280ms\n",
      "112:\tlearn: 0.2569005\ttotal: 358ms\tremaining: 276ms\n",
      "113:\tlearn: 0.2566974\ttotal: 360ms\tremaining: 272ms\n",
      "114:\tlearn: 0.2555610\ttotal: 362ms\tremaining: 267ms\n",
      "115:\tlearn: 0.2534165\ttotal: 364ms\tremaining: 263ms\n",
      "116:\tlearn: 0.2516139\ttotal: 366ms\tremaining: 260ms\n",
      "117:\tlearn: 0.2489933\ttotal: 368ms\tremaining: 256ms\n",
      "118:\tlearn: 0.2486284\ttotal: 370ms\tremaining: 252ms\n",
      "119:\tlearn: 0.2450669\ttotal: 372ms\tremaining: 248ms\n",
      "120:\tlearn: 0.2427525\ttotal: 373ms\tremaining: 244ms\n",
      "121:\tlearn: 0.2402429\ttotal: 375ms\tremaining: 240ms\n",
      "122:\tlearn: 0.2400650\ttotal: 377ms\tremaining: 236ms\n",
      "123:\tlearn: 0.2380892\ttotal: 378ms\tremaining: 232ms\n",
      "124:\tlearn: 0.2354942\ttotal: 380ms\tremaining: 228ms\n",
      "125:\tlearn: 0.2341593\ttotal: 382ms\tremaining: 224ms\n",
      "126:\tlearn: 0.2320282\ttotal: 383ms\tremaining: 220ms\n",
      "127:\tlearn: 0.2300385\ttotal: 385ms\tremaining: 217ms\n",
      "128:\tlearn: 0.2299319\ttotal: 387ms\tremaining: 213ms\n",
      "129:\tlearn: 0.2296553\ttotal: 388ms\tremaining: 209ms\n",
      "130:\tlearn: 0.2273650\ttotal: 390ms\tremaining: 205ms\n",
      "131:\tlearn: 0.2265815\ttotal: 391ms\tremaining: 202ms\n",
      "132:\tlearn: 0.2245411\ttotal: 393ms\tremaining: 198ms\n",
      "133:\tlearn: 0.2231299\ttotal: 395ms\tremaining: 195ms\n",
      "134:\tlearn: 0.2209644\ttotal: 397ms\tremaining: 191ms\n",
      "135:\tlearn: 0.2197376\ttotal: 398ms\tremaining: 188ms\n",
      "136:\tlearn: 0.2196213\ttotal: 400ms\tremaining: 184ms\n",
      "137:\tlearn: 0.2194222\ttotal: 402ms\tremaining: 180ms\n",
      "138:\tlearn: 0.2187655\ttotal: 403ms\tremaining: 177ms\n",
      "139:\tlearn: 0.2172271\ttotal: 405ms\tremaining: 173ms\n",
      "140:\tlearn: 0.2151777\ttotal: 406ms\tremaining: 170ms\n",
      "141:\tlearn: 0.2149459\ttotal: 408ms\tremaining: 167ms\n",
      "142:\tlearn: 0.2140681\ttotal: 410ms\tremaining: 163ms\n",
      "143:\tlearn: 0.2123962\ttotal: 412ms\tremaining: 160ms\n",
      "144:\tlearn: 0.2103496\ttotal: 414ms\tremaining: 157ms\n",
      "145:\tlearn: 0.2096209\ttotal: 416ms\tremaining: 154ms\n",
      "146:\tlearn: 0.2074158\ttotal: 417ms\tremaining: 151ms\n",
      "147:\tlearn: 0.2053580\ttotal: 419ms\tremaining: 147ms\n",
      "148:\tlearn: 0.2040380\ttotal: 421ms\tremaining: 144ms\n",
      "149:\tlearn: 0.2031384\ttotal: 423ms\tremaining: 141ms\n",
      "150:\tlearn: 0.2028431\ttotal: 425ms\tremaining: 138ms\n",
      "151:\tlearn: 0.2010913\ttotal: 427ms\tremaining: 135ms\n",
      "152:\tlearn: 0.1991184\ttotal: 429ms\tremaining: 132ms\n",
      "153:\tlearn: 0.1976000\ttotal: 431ms\tremaining: 129ms\n",
      "154:\tlearn: 0.1969800\ttotal: 432ms\tremaining: 125ms\n",
      "155:\tlearn: 0.1965926\ttotal: 434ms\tremaining: 122ms\n",
      "156:\tlearn: 0.1959608\ttotal: 435ms\tremaining: 119ms\n",
      "157:\tlearn: 0.1941767\ttotal: 437ms\tremaining: 116ms\n",
      "158:\tlearn: 0.1925033\ttotal: 439ms\tremaining: 113ms\n",
      "159:\tlearn: 0.1907662\ttotal: 441ms\tremaining: 110ms\n",
      "160:\tlearn: 0.1906644\ttotal: 442ms\tremaining: 107ms\n",
      "161:\tlearn: 0.1886617\ttotal: 444ms\tremaining: 104ms\n",
      "162:\tlearn: 0.1875585\ttotal: 446ms\tremaining: 101ms\n",
      "163:\tlearn: 0.1865372\ttotal: 447ms\tremaining: 98.2ms\n",
      "164:\tlearn: 0.1847958\ttotal: 449ms\tremaining: 95.3ms\n",
      "165:\tlearn: 0.1828783\ttotal: 451ms\tremaining: 92.4ms\n",
      "166:\tlearn: 0.1818684\ttotal: 453ms\tremaining: 89.5ms\n",
      "167:\tlearn: 0.1797026\ttotal: 454ms\tremaining: 86.6ms\n",
      "168:\tlearn: 0.1784559\ttotal: 456ms\tremaining: 83.7ms\n",
      "169:\tlearn: 0.1775242\ttotal: 458ms\tremaining: 80.8ms\n",
      "170:\tlearn: 0.1758678\ttotal: 460ms\tremaining: 77.9ms\n"
     ]
    },
    {
     "name": "stdout",
     "output_type": "stream",
     "text": [
      "171:\tlearn: 0.1748393\ttotal: 462ms\tremaining: 75.1ms\n",
      "172:\tlearn: 0.1726024\ttotal: 464ms\tremaining: 72.3ms\n",
      "173:\tlearn: 0.1715972\ttotal: 465ms\tremaining: 69.6ms\n",
      "174:\tlearn: 0.1703990\ttotal: 468ms\tremaining: 66.8ms\n",
      "175:\tlearn: 0.1702673\ttotal: 470ms\tremaining: 64.1ms\n",
      "176:\tlearn: 0.1690577\ttotal: 472ms\tremaining: 61.3ms\n",
      "177:\tlearn: 0.1690012\ttotal: 474ms\tremaining: 58.6ms\n",
      "178:\tlearn: 0.1668001\ttotal: 476ms\tremaining: 55.9ms\n",
      "179:\tlearn: 0.1648687\ttotal: 479ms\tremaining: 53.2ms\n",
      "180:\tlearn: 0.1633526\ttotal: 481ms\tremaining: 50.5ms\n",
      "181:\tlearn: 0.1621420\ttotal: 483ms\tremaining: 47.7ms\n",
      "182:\tlearn: 0.1609530\ttotal: 485ms\tremaining: 45ms\n",
      "183:\tlearn: 0.1596126\ttotal: 486ms\tremaining: 42.3ms\n",
      "184:\tlearn: 0.1573220\ttotal: 488ms\tremaining: 39.6ms\n",
      "185:\tlearn: 0.1558333\ttotal: 491ms\tremaining: 36.9ms\n",
      "186:\tlearn: 0.1548992\ttotal: 493ms\tremaining: 34.2ms\n",
      "187:\tlearn: 0.1535993\ttotal: 495ms\tremaining: 31.6ms\n",
      "188:\tlearn: 0.1526815\ttotal: 497ms\tremaining: 28.9ms\n",
      "189:\tlearn: 0.1511320\ttotal: 498ms\tremaining: 26.2ms\n",
      "190:\tlearn: 0.1504125\ttotal: 500ms\tremaining: 23.6ms\n",
      "191:\tlearn: 0.1497685\ttotal: 503ms\tremaining: 21ms\n",
      "192:\tlearn: 0.1486532\ttotal: 505ms\tremaining: 18.3ms\n",
      "193:\tlearn: 0.1478745\ttotal: 507ms\tremaining: 15.7ms\n",
      "194:\tlearn: 0.1469027\ttotal: 509ms\tremaining: 13ms\n",
      "195:\tlearn: 0.1455376\ttotal: 511ms\tremaining: 10.4ms\n",
      "196:\tlearn: 0.1441168\ttotal: 513ms\tremaining: 7.81ms\n",
      "197:\tlearn: 0.1427461\ttotal: 515ms\tremaining: 5.2ms\n",
      "198:\tlearn: 0.1419284\ttotal: 517ms\tremaining: 2.6ms\n",
      "199:\tlearn: 0.1413300\ttotal: 519ms\tremaining: 0us\n",
      "Best parameters:  {'learning_rate': 0.08, 'n_estimators': 200, 'random_state': 42}\n",
      "Best CV score:  0.7386503067484663\n",
      "0:\tlearn: 0.6681619\ttotal: 2.25ms\tremaining: 448ms\n",
      "1:\tlearn: 0.6418758\ttotal: 4.06ms\tremaining: 402ms\n",
      "2:\tlearn: 0.6222052\ttotal: 6.07ms\tremaining: 399ms\n",
      "3:\tlearn: 0.5995497\ttotal: 7.91ms\tremaining: 387ms\n",
      "4:\tlearn: 0.5829812\ttotal: 10ms\tremaining: 391ms\n",
      "5:\tlearn: 0.5673494\ttotal: 11.9ms\tremaining: 385ms\n",
      "6:\tlearn: 0.5524825\ttotal: 13.8ms\tremaining: 380ms\n",
      "7:\tlearn: 0.5418616\ttotal: 15.6ms\tremaining: 374ms\n",
      "8:\tlearn: 0.5296889\ttotal: 17.5ms\tremaining: 371ms\n",
      "9:\tlearn: 0.5193340\ttotal: 19.6ms\tremaining: 373ms\n",
      "10:\tlearn: 0.5124783\ttotal: 21.5ms\tremaining: 369ms\n",
      "11:\tlearn: 0.5047960\ttotal: 23.4ms\tremaining: 367ms\n",
      "12:\tlearn: 0.4978988\ttotal: 25.6ms\tremaining: 369ms\n",
      "13:\tlearn: 0.4932438\ttotal: 27.7ms\tremaining: 368ms\n",
      "14:\tlearn: 0.4848461\ttotal: 29.7ms\tremaining: 366ms\n",
      "15:\tlearn: 0.4802854\ttotal: 31.6ms\tremaining: 363ms\n",
      "16:\tlearn: 0.4743291\ttotal: 33.2ms\tremaining: 358ms\n",
      "17:\tlearn: 0.4710334\ttotal: 35.1ms\tremaining: 355ms\n",
      "18:\tlearn: 0.4654206\ttotal: 37ms\tremaining: 353ms\n",
      "19:\tlearn: 0.4608569\ttotal: 38.7ms\tremaining: 348ms\n",
      "20:\tlearn: 0.4563495\ttotal: 40.6ms\tremaining: 346ms\n",
      "21:\tlearn: 0.4515955\ttotal: 42.3ms\tremaining: 342ms\n",
      "22:\tlearn: 0.4478396\ttotal: 44.4ms\tremaining: 342ms\n",
      "23:\tlearn: 0.4451543\ttotal: 46.2ms\tremaining: 338ms\n",
      "24:\tlearn: 0.4423293\ttotal: 48.2ms\tremaining: 337ms\n",
      "25:\tlearn: 0.4380598\ttotal: 49.9ms\tremaining: 334ms\n",
      "26:\tlearn: 0.4335258\ttotal: 51.6ms\tremaining: 331ms\n",
      "27:\tlearn: 0.4289196\ttotal: 53.8ms\tremaining: 330ms\n",
      "28:\tlearn: 0.4240899\ttotal: 55.6ms\tremaining: 328ms\n",
      "29:\tlearn: 0.4193320\ttotal: 57.9ms\tremaining: 328ms\n",
      "30:\tlearn: 0.4163787\ttotal: 60.1ms\tremaining: 327ms\n",
      "31:\tlearn: 0.4127786\ttotal: 62ms\tremaining: 325ms\n",
      "32:\tlearn: 0.4109446\ttotal: 64ms\tremaining: 324ms\n",
      "33:\tlearn: 0.4075792\ttotal: 66ms\tremaining: 322ms\n",
      "34:\tlearn: 0.4053573\ttotal: 67.9ms\tremaining: 320ms\n",
      "35:\tlearn: 0.4036430\ttotal: 70.2ms\tremaining: 320ms\n",
      "36:\tlearn: 0.4009443\ttotal: 72.4ms\tremaining: 319ms\n",
      "37:\tlearn: 0.3984048\ttotal: 74.7ms\tremaining: 318ms\n",
      "38:\tlearn: 0.3958905\ttotal: 76.8ms\tremaining: 317ms\n",
      "39:\tlearn: 0.3931560\ttotal: 78.7ms\tremaining: 315ms\n",
      "40:\tlearn: 0.3922903\ttotal: 80.6ms\tremaining: 312ms\n",
      "41:\tlearn: 0.3905193\ttotal: 82.7ms\tremaining: 311ms\n",
      "42:\tlearn: 0.3876443\ttotal: 84.5ms\tremaining: 308ms\n",
      "43:\tlearn: 0.3836652\ttotal: 86.3ms\tremaining: 306ms\n",
      "44:\tlearn: 0.3800290\ttotal: 87.9ms\tremaining: 303ms\n",
      "45:\tlearn: 0.3782631\ttotal: 89.5ms\tremaining: 300ms\n",
      "46:\tlearn: 0.3761679\ttotal: 91ms\tremaining: 296ms\n",
      "47:\tlearn: 0.3746776\ttotal: 92.7ms\tremaining: 294ms\n",
      "48:\tlearn: 0.3731321\ttotal: 94.5ms\tremaining: 291ms\n",
      "49:\tlearn: 0.3683703\ttotal: 96.4ms\tremaining: 289ms\n",
      "50:\tlearn: 0.3665885\ttotal: 98.2ms\tremaining: 287ms\n",
      "51:\tlearn: 0.3631768\ttotal: 100ms\tremaining: 285ms\n",
      "52:\tlearn: 0.3605285\ttotal: 102ms\tremaining: 283ms\n",
      "53:\tlearn: 0.3575758\ttotal: 104ms\tremaining: 281ms\n",
      "54:\tlearn: 0.3543199\ttotal: 106ms\tremaining: 279ms\n",
      "55:\tlearn: 0.3514284\ttotal: 108ms\tremaining: 278ms\n",
      "56:\tlearn: 0.3491201\ttotal: 110ms\tremaining: 276ms\n",
      "57:\tlearn: 0.3472390\ttotal: 112ms\tremaining: 274ms\n",
      "58:\tlearn: 0.3448928\ttotal: 114ms\tremaining: 272ms\n",
      "59:\tlearn: 0.3435235\ttotal: 116ms\tremaining: 270ms\n",
      "60:\tlearn: 0.3415647\ttotal: 118ms\tremaining: 268ms\n",
      "61:\tlearn: 0.3408577\ttotal: 119ms\tremaining: 266ms\n",
      "62:\tlearn: 0.3390004\ttotal: 121ms\tremaining: 264ms\n",
      "63:\tlearn: 0.3370013\ttotal: 123ms\tremaining: 262ms\n",
      "64:\tlearn: 0.3365117\ttotal: 125ms\tremaining: 260ms\n",
      "65:\tlearn: 0.3347503\ttotal: 127ms\tremaining: 257ms\n",
      "66:\tlearn: 0.3319634\ttotal: 128ms\tremaining: 255ms\n",
      "67:\tlearn: 0.3300677\ttotal: 130ms\tremaining: 253ms\n",
      "68:\tlearn: 0.3277415\ttotal: 132ms\tremaining: 251ms\n",
      "69:\tlearn: 0.3252103\ttotal: 134ms\tremaining: 248ms\n",
      "70:\tlearn: 0.3244080\ttotal: 136ms\tremaining: 246ms\n",
      "71:\tlearn: 0.3225010\ttotal: 138ms\tremaining: 245ms\n",
      "72:\tlearn: 0.3219043\ttotal: 140ms\tremaining: 243ms\n",
      "73:\tlearn: 0.3205566\ttotal: 142ms\tremaining: 241ms\n",
      "74:\tlearn: 0.3192164\ttotal: 144ms\tremaining: 239ms\n",
      "75:\tlearn: 0.3165324\ttotal: 145ms\tremaining: 237ms\n",
      "76:\tlearn: 0.3150885\ttotal: 148ms\tremaining: 236ms\n",
      "77:\tlearn: 0.3134953\ttotal: 149ms\tremaining: 234ms\n",
      "78:\tlearn: 0.3121270\ttotal: 151ms\tremaining: 232ms\n",
      "79:\tlearn: 0.3109966\ttotal: 153ms\tremaining: 230ms\n",
      "80:\tlearn: 0.3089275\ttotal: 155ms\tremaining: 227ms\n",
      "81:\tlearn: 0.3076740\ttotal: 156ms\tremaining: 225ms\n",
      "82:\tlearn: 0.3052056\ttotal: 158ms\tremaining: 223ms\n",
      "83:\tlearn: 0.3032685\ttotal: 160ms\tremaining: 221ms\n",
      "84:\tlearn: 0.3026794\ttotal: 162ms\tremaining: 219ms\n",
      "85:\tlearn: 0.3015610\ttotal: 163ms\tremaining: 217ms\n",
      "86:\tlearn: 0.3011044\ttotal: 165ms\tremaining: 215ms\n",
      "87:\tlearn: 0.2990369\ttotal: 167ms\tremaining: 213ms\n",
      "88:\tlearn: 0.2985678\ttotal: 169ms\tremaining: 211ms\n",
      "89:\tlearn: 0.2957177\ttotal: 171ms\tremaining: 209ms\n",
      "90:\tlearn: 0.2942695\ttotal: 173ms\tremaining: 207ms\n",
      "91:\tlearn: 0.2932530\ttotal: 175ms\tremaining: 205ms\n",
      "92:\tlearn: 0.2921589\ttotal: 177ms\tremaining: 203ms\n",
      "93:\tlearn: 0.2890084\ttotal: 179ms\tremaining: 201ms\n",
      "94:\tlearn: 0.2878173\ttotal: 180ms\tremaining: 199ms\n",
      "95:\tlearn: 0.2854896\ttotal: 182ms\tremaining: 197ms\n",
      "96:\tlearn: 0.2823333\ttotal: 184ms\tremaining: 195ms\n",
      "97:\tlearn: 0.2798975\ttotal: 185ms\tremaining: 193ms\n",
      "98:\tlearn: 0.2783629\ttotal: 187ms\tremaining: 191ms\n",
      "99:\tlearn: 0.2779955\ttotal: 189ms\tremaining: 189ms\n",
      "100:\tlearn: 0.2763884\ttotal: 191ms\tremaining: 187ms\n",
      "101:\tlearn: 0.2747776\ttotal: 193ms\tremaining: 185ms\n",
      "102:\tlearn: 0.2745537\ttotal: 195ms\tremaining: 183ms\n",
      "103:\tlearn: 0.2712308\ttotal: 197ms\tremaining: 181ms\n",
      "104:\tlearn: 0.2697269\ttotal: 199ms\tremaining: 180ms\n",
      "105:\tlearn: 0.2686306\ttotal: 201ms\tremaining: 178ms\n",
      "106:\tlearn: 0.2680846\ttotal: 202ms\tremaining: 176ms\n",
      "107:\tlearn: 0.2658888\ttotal: 204ms\tremaining: 174ms\n",
      "108:\tlearn: 0.2636644\ttotal: 206ms\tremaining: 172ms\n",
      "109:\tlearn: 0.2617221\ttotal: 208ms\tremaining: 170ms\n",
      "110:\tlearn: 0.2592755\ttotal: 210ms\tremaining: 168ms\n",
      "111:\tlearn: 0.2576494\ttotal: 212ms\tremaining: 166ms\n",
      "112:\tlearn: 0.2569005\ttotal: 214ms\tremaining: 165ms\n",
      "113:\tlearn: 0.2566974\ttotal: 216ms\tremaining: 163ms\n",
      "114:\tlearn: 0.2555610\ttotal: 218ms\tremaining: 161ms\n",
      "115:\tlearn: 0.2534165\ttotal: 220ms\tremaining: 160ms\n",
      "116:\tlearn: 0.2516139\ttotal: 223ms\tremaining: 158ms\n",
      "117:\tlearn: 0.2489933\ttotal: 225ms\tremaining: 156ms\n",
      "118:\tlearn: 0.2486284\ttotal: 226ms\tremaining: 154ms\n",
      "119:\tlearn: 0.2450669\ttotal: 228ms\tremaining: 152ms\n",
      "120:\tlearn: 0.2427525\ttotal: 230ms\tremaining: 150ms\n",
      "121:\tlearn: 0.2402429\ttotal: 232ms\tremaining: 148ms\n",
      "122:\tlearn: 0.2400650\ttotal: 234ms\tremaining: 146ms\n",
      "123:\tlearn: 0.2380892\ttotal: 236ms\tremaining: 144ms\n",
      "124:\tlearn: 0.2354942\ttotal: 237ms\tremaining: 142ms\n",
      "125:\tlearn: 0.2341593\ttotal: 239ms\tremaining: 140ms\n",
      "126:\tlearn: 0.2320282\ttotal: 241ms\tremaining: 138ms\n",
      "127:\tlearn: 0.2300385\ttotal: 243ms\tremaining: 136ms\n",
      "128:\tlearn: 0.2299319\ttotal: 245ms\tremaining: 135ms\n",
      "129:\tlearn: 0.2296553\ttotal: 247ms\tremaining: 133ms\n",
      "130:\tlearn: 0.2273650\ttotal: 249ms\tremaining: 131ms\n",
      "131:\tlearn: 0.2265815\ttotal: 251ms\tremaining: 129ms\n",
      "132:\tlearn: 0.2245411\ttotal: 252ms\tremaining: 127ms\n",
      "133:\tlearn: 0.2231299\ttotal: 254ms\tremaining: 125ms\n",
      "134:\tlearn: 0.2209644\ttotal: 256ms\tremaining: 123ms\n",
      "135:\tlearn: 0.2197376\ttotal: 259ms\tremaining: 122ms\n",
      "136:\tlearn: 0.2196213\ttotal: 260ms\tremaining: 120ms\n",
      "137:\tlearn: 0.2194222\ttotal: 262ms\tremaining: 118ms\n",
      "138:\tlearn: 0.2187655\ttotal: 264ms\tremaining: 116ms\n",
      "139:\tlearn: 0.2172271\ttotal: 265ms\tremaining: 114ms\n",
      "140:\tlearn: 0.2151777\ttotal: 267ms\tremaining: 112ms\n",
      "141:\tlearn: 0.2149459\ttotal: 269ms\tremaining: 110ms\n",
      "142:\tlearn: 0.2140681\ttotal: 270ms\tremaining: 108ms\n",
      "143:\tlearn: 0.2123962\ttotal: 272ms\tremaining: 106ms\n",
      "144:\tlearn: 0.2103496\ttotal: 274ms\tremaining: 104ms\n",
      "145:\tlearn: 0.2096209\ttotal: 275ms\tremaining: 102ms\n",
      "146:\tlearn: 0.2074158\ttotal: 277ms\tremaining: 99.8ms\n",
      "147:\tlearn: 0.2053580\ttotal: 279ms\tremaining: 97.9ms\n",
      "148:\tlearn: 0.2040380\ttotal: 280ms\tremaining: 95.9ms\n",
      "149:\tlearn: 0.2031384\ttotal: 282ms\tremaining: 94ms\n",
      "150:\tlearn: 0.2028431\ttotal: 284ms\tremaining: 92.1ms\n",
      "151:\tlearn: 0.2010913\ttotal: 286ms\tremaining: 90.2ms\n",
      "152:\tlearn: 0.1991184\ttotal: 287ms\tremaining: 88.3ms\n",
      "153:\tlearn: 0.1976000\ttotal: 289ms\tremaining: 86.4ms\n",
      "154:\tlearn: 0.1969800\ttotal: 291ms\tremaining: 84.5ms\n",
      "155:\tlearn: 0.1965926\ttotal: 293ms\tremaining: 82.6ms\n",
      "156:\tlearn: 0.1959608\ttotal: 295ms\tremaining: 80.7ms\n",
      "157:\tlearn: 0.1941767\ttotal: 296ms\tremaining: 78.8ms\n",
      "158:\tlearn: 0.1925033\ttotal: 298ms\tremaining: 76.9ms\n",
      "159:\tlearn: 0.1907662\ttotal: 300ms\tremaining: 75ms\n",
      "160:\tlearn: 0.1906644\ttotal: 302ms\tremaining: 73.1ms\n",
      "161:\tlearn: 0.1886617\ttotal: 304ms\tremaining: 71.3ms\n",
      "162:\tlearn: 0.1875585\ttotal: 306ms\tremaining: 69.4ms\n",
      "163:\tlearn: 0.1865372\ttotal: 308ms\tremaining: 67.5ms\n",
      "164:\tlearn: 0.1847958\ttotal: 309ms\tremaining: 65.6ms\n",
      "165:\tlearn: 0.1828783\ttotal: 312ms\tremaining: 63.8ms\n",
      "166:\tlearn: 0.1818684\ttotal: 313ms\tremaining: 61.9ms\n",
      "167:\tlearn: 0.1797026\ttotal: 315ms\tremaining: 60ms\n",
      "168:\tlearn: 0.1784559\ttotal: 317ms\tremaining: 58.1ms\n",
      "169:\tlearn: 0.1775242\ttotal: 318ms\tremaining: 56.2ms\n",
      "170:\tlearn: 0.1758678\ttotal: 320ms\tremaining: 54.3ms\n",
      "171:\tlearn: 0.1748393\ttotal: 322ms\tremaining: 52.4ms\n",
      "172:\tlearn: 0.1726024\ttotal: 323ms\tremaining: 50.5ms\n",
      "173:\tlearn: 0.1715972\ttotal: 325ms\tremaining: 48.6ms\n",
      "174:\tlearn: 0.1703990\ttotal: 327ms\tremaining: 46.7ms\n",
      "175:\tlearn: 0.1702673\ttotal: 329ms\tremaining: 44.8ms\n",
      "176:\tlearn: 0.1690577\ttotal: 330ms\tremaining: 42.9ms\n",
      "177:\tlearn: 0.1690012\ttotal: 332ms\tremaining: 41.1ms\n",
      "178:\tlearn: 0.1668001\ttotal: 334ms\tremaining: 39.2ms\n",
      "179:\tlearn: 0.1648687\ttotal: 336ms\tremaining: 37.3ms\n",
      "180:\tlearn: 0.1633526\ttotal: 337ms\tremaining: 35.4ms\n",
      "181:\tlearn: 0.1621420\ttotal: 339ms\tremaining: 33.5ms\n",
      "182:\tlearn: 0.1609530\ttotal: 341ms\tremaining: 31.6ms\n",
      "183:\tlearn: 0.1596126\ttotal: 342ms\tremaining: 29.8ms\n",
      "184:\tlearn: 0.1573220\ttotal: 344ms\tremaining: 27.9ms\n",
      "185:\tlearn: 0.1558333\ttotal: 346ms\tremaining: 26ms\n",
      "186:\tlearn: 0.1548992\ttotal: 348ms\tremaining: 24.2ms\n",
      "187:\tlearn: 0.1535993\ttotal: 349ms\tremaining: 22.3ms\n",
      "188:\tlearn: 0.1526815\ttotal: 351ms\tremaining: 20.4ms\n",
      "189:\tlearn: 0.1511320\ttotal: 353ms\tremaining: 18.6ms\n",
      "190:\tlearn: 0.1504125\ttotal: 355ms\tremaining: 16.7ms\n",
      "191:\tlearn: 0.1497685\ttotal: 357ms\tremaining: 14.9ms\n",
      "192:\tlearn: 0.1486532\ttotal: 359ms\tremaining: 13ms\n",
      "193:\tlearn: 0.1478745\ttotal: 361ms\tremaining: 11.2ms\n",
      "194:\tlearn: 0.1469027\ttotal: 362ms\tremaining: 9.29ms\n",
      "195:\tlearn: 0.1455376\ttotal: 365ms\tremaining: 7.44ms\n",
      "196:\tlearn: 0.1441168\ttotal: 366ms\tremaining: 5.58ms\n",
      "197:\tlearn: 0.1427461\ttotal: 368ms\tremaining: 3.72ms\n"
     ]
    },
    {
     "name": "stdout",
     "output_type": "stream",
     "text": [
      "198:\tlearn: 0.1419284\ttotal: 370ms\tremaining: 1.86ms\n",
      "199:\tlearn: 0.1413300\ttotal: 372ms\tremaining: 0us\n",
      "Test accuracy:  0.7401960784313726\n"
     ]
    }
   ],
   "source": [
    "from catboost import CatBoostClassifier\n",
    "\n",
    "param_grid = {'learning_rate': [0.08, 0.1, 0.15, 0.2, 0.25, 0.3], \n",
    "             'n_estimators': [200, 250, 300, 350, 400, 450, 500],\n",
    "             'random_state': [42]}\n",
    "\n",
    "\n",
    "grid_search_cbc = GridSearchCV(CatBoostClassifier(), param_grid, cv=KFold(5, shuffle=True, random_state=42), n_jobs=-1)\n",
    "\n",
    "grid_search_cbc.fit(X_train,y_train, silent=True)\n",
    "print(\"Best parameters: \", grid_search_cbc.best_params_)\n",
    "print(\"Best CV score: \", grid_search_cbc.best_score_)\n",
    "\n",
    "best_cbc = CatBoostClassifier(**grid_search_cbc.best_params_).fit(X_train, y_train, silent=True)\n",
    "print(\"Test accuracy: \", best_cbc.score(X_test, y_test))"
   ]
  },
  {
   "cell_type": "markdown",
   "metadata": {},
   "source": [
    "<h2> (7) GradientBoost Classifier </h2>"
   ]
  },
  {
   "cell_type": "markdown",
   "metadata": {},
   "source": [
    "Gradient Boosting Classifiers are the AdaBoosting method combined with weighted minimization, after which the classifiers and weighted inputs are recalculated. The objective of Gradient Boosting Classifiers is to minimize the loss, or the difference between the actual class value of the training example and the predicted class value."
   ]
  },
  {
   "cell_type": "code",
   "execution_count": 16,
   "metadata": {},
   "outputs": [
    {
     "name": "stdout",
     "output_type": "stream",
     "text": [
      "Best parameters:  {'learning_rate': 0.008, 'n_estimators': 300, 'random_state': 42}\n",
      "Best CV score:  0.7374233128834357\n",
      "Test accuracy:  0.7352941176470589\n"
     ]
    }
   ],
   "source": [
    "param_grid = {'learning_rate':[0.008, 0.1, 0.12, 0.14, 0.16, 0.18, 0.2, 0.22, 0.24], \n",
    "             'n_estimators': [100, 150, 200, 250, 300, 350, 400, 500, 550, 600],\n",
    "             'random_state': [42]}\n",
    "\n",
    "grid_search_gbc = GridSearchCV(GradientBoostingClassifier(), param_grid, cv=KFold(5, shuffle=True, random_state=42), n_jobs=-1)\n",
    "\n",
    "grid_search_gbc.fit(X_train,y_train)\n",
    "print(\"Best parameters: \", grid_search_gbc.best_params_)\n",
    "print(\"Best CV score: \", grid_search_gbc.best_score_)\n",
    "\n",
    "best_gbc = GradientBoostingClassifier(**grid_search_gbc.best_params_).fit(X_train, y_train)\n",
    "print(\"Test accuracy: \", best_gbc.score(X_test, y_test))"
   ]
  },
  {
   "cell_type": "markdown",
   "metadata": {},
   "source": [
    "<h2> Conclusion </h2>"
   ]
  },
  {
   "cell_type": "markdown",
   "metadata": {},
   "source": [
    "Using the dataset with no duplicates and outliers removed, we note that the Naive Bayes Classifier performs the best with a classification accuracy of 74.51%."
   ]
  }
 ],
 "metadata": {
  "kernelspec": {
   "display_name": "Python 3",
   "language": "python",
   "name": "python3"
  },
  "language_info": {
   "codemirror_mode": {
    "name": "ipython",
    "version": 3
   },
   "file_extension": ".py",
   "mimetype": "text/x-python",
   "name": "python",
   "nbconvert_exporter": "python",
   "pygments_lexer": "ipython3",
   "version": "3.8.3"
  }
 },
 "nbformat": 4,
 "nbformat_minor": 4
}
